{
 "cells": [
  {
   "cell_type": "code",
   "execution_count": 1,
   "id": "800d4cb1",
   "metadata": {},
   "outputs": [],
   "source": [
    "import random\n"
   ]
  },
  {
   "cell_type": "code",
   "execution_count": 2,
   "id": "f3410dfa",
   "metadata": {},
   "outputs": [
    {
     "data": {
      "text/plain": [
       "0.05365895222830541"
      ]
     },
     "execution_count": 2,
     "metadata": {},
     "output_type": "execute_result"
    }
   ],
   "source": [
    "# Returns float between 0 and 1.\n",
    "random.random()"
   ]
  },
  {
   "cell_type": "code",
   "execution_count": 11,
   "id": "908d43ac",
   "metadata": {},
   "outputs": [
    {
     "data": {
      "text/plain": [
       "-1"
      ]
     },
     "execution_count": 11,
     "metadata": {},
     "output_type": "execute_result"
    }
   ],
   "source": [
    "# Returns random integer between and including parameters\n",
    "random.randint(-1,1)"
   ]
  },
  {
   "cell_type": "code",
   "execution_count": 12,
   "id": "5a9f87a4",
   "metadata": {},
   "outputs": [
    {
     "data": {
      "text/plain": [
       "1"
      ]
     },
     "execution_count": 12,
     "metadata": {},
     "output_type": "execute_result"
    }
   ],
   "source": [
    "# Returns random integer only within step value pool\n",
    "random.randrange(-9,9,2)"
   ]
  },
  {
   "cell_type": "code",
   "execution_count": 13,
   "id": "87b77fe3",
   "metadata": {},
   "outputs": [
    {
     "data": {
      "text/plain": [
       "9.717405930483949"
      ]
     },
     "execution_count": 13,
     "metadata": {},
     "output_type": "execute_result"
    }
   ],
   "source": [
    "# Returns value with decimal. Can use round function to limit decimals\n",
    "random.uniform(-10,10)"
   ]
  },
  {
   "cell_type": "code",
   "execution_count": 18,
   "id": "160ec59d",
   "metadata": {},
   "outputs": [
    {
     "name": "stdout",
     "output_type": "stream",
     "text": [
      "[68.21050260401229, -56.191392120930566, 60.99404539421664, 74.07686283379934, 16.733171037353028, -29.95683246464976, -43.84858427188727, -18.385715959530298, 62.886074401209235, -79.36534568822633]\n"
     ]
    }
   ],
   "source": [
    "x = 1\n",
    "latitudes = []\n",
    "while x < 11:\n",
    "    random_lat = random.randint(-90, 89) + random.random()\n",
    "    latitudes.append(random_lat)\n",
    "    x += 1\n",
    "print(latitudes)"
   ]
  },
  {
   "cell_type": "code",
   "execution_count": 24,
   "id": "3cea6524",
   "metadata": {},
   "outputs": [
    {
     "data": {
      "text/plain": [
       "-54.32466564192465"
      ]
     },
     "execution_count": 24,
     "metadata": {},
     "output_type": "execute_result"
    }
   ],
   "source": [
    "# This would be good option but nump and random moldule that eliminates need for loop.\n",
    "random.uniform(-90,90)"
   ]
  },
  {
   "cell_type": "code",
   "execution_count": 25,
   "id": "dc535540",
   "metadata": {},
   "outputs": [],
   "source": [
    "# Import the NumPy module.\n",
    "import numpy as np"
   ]
  },
  {
   "cell_type": "code",
   "execution_count": 27,
   "id": "fad52768",
   "metadata": {},
   "outputs": [
    {
     "data": {
      "text/plain": [
       "array([-42.76122806,  40.87272471, -85.60150552, -49.95646531,\n",
       "       -42.49868306, -22.99871539,  57.43851808, -79.84738724,\n",
       "         2.51318042,  79.16678436,   8.33196266, -72.99878541,\n",
       "       -81.6860124 ,  27.84504155, -38.06253353, -74.11149472,\n",
       "        75.26396352,  26.15725726, -39.29297152, -80.44352212,\n",
       "        84.1889035 , -65.24694963,   9.61706387, -14.36500159,\n",
       "       -64.81331756,  81.945604  ,  86.05448861, -88.89883532,\n",
       "       -40.05818453, -87.67758121,  75.67302252,  20.92403846,\n",
       "       -22.57399776, -43.49176916,  71.00910835, -56.3412746 ,\n",
       "        70.21355189, -24.26972809, -13.49106991, -57.30924698,\n",
       "         3.91825611, -43.45371711,  35.64333702, -40.00891374,\n",
       "       -22.62766322,  78.50648303, -53.27984031,  84.08129499,\n",
       "        43.23248902, -74.92391928])"
      ]
     },
     "execution_count": 27,
     "metadata": {},
     "output_type": "execute_result"
    }
   ],
   "source": [
    "# Also can be written as np.random.uniform(low=-90, high=90) - np.random.uniform has size parameter equal to any whole number\n",
    "np.random.uniform(-90.000, 90.000, size=50)"
   ]
  },
  {
   "cell_type": "code",
   "execution_count": 30,
   "id": "d6992005",
   "metadata": {},
   "outputs": [],
   "source": [
    "# Import timeit.\n",
    "import timeit"
   ]
  },
  {
   "cell_type": "code",
   "execution_count": 31,
   "id": "89d47746",
   "metadata": {},
   "outputs": [
    {
     "name": "stdout",
     "output_type": "stream",
     "text": [
      "18.1 µs ± 101 ns per loop (mean ± std. dev. of 7 runs, 100,000 loops each)\n"
     ]
    }
   ],
   "source": [
    "%timeit np.random.uniform(-90.000, 90.000, size=1500)"
   ]
  },
  {
   "cell_type": "code",
   "execution_count": 32,
   "id": "0517586b",
   "metadata": {},
   "outputs": [
    {
     "name": "stdout",
     "output_type": "stream",
     "text": [
      "1.11 ms ± 14.2 µs per loop (mean ± std. dev. of 7 runs, 1,000 loops each)\n"
     ]
    }
   ],
   "source": [
    "def latitudes(size):\n",
    "    latitudes = []\n",
    "    x = 0\n",
    "    while x < (size):\n",
    "        random_lat = random.randint(-90, 90) + random.random()\n",
    "        latitudes.append(random_lat)\n",
    "        x += 1\n",
    "    return latitudes\n",
    "# Call the function with 1500.\n",
    "%timeit latitudes(1500)"
   ]
  },
  {
   "cell_type": "code",
   "execution_count": null,
   "id": "21bb3a93",
   "metadata": {},
   "outputs": [],
   "source": []
  }
 ],
 "metadata": {
  "kernelspec": {
   "display_name": "PythonData",
   "language": "python",
   "name": "pythondata"
  },
  "language_info": {
   "codemirror_mode": {
    "name": "ipython",
    "version": 3
   },
   "file_extension": ".py",
   "mimetype": "text/x-python",
   "name": "python",
   "nbconvert_exporter": "python",
   "pygments_lexer": "ipython3",
   "version": "3.9.12"
  }
 },
 "nbformat": 4,
 "nbformat_minor": 5
}
